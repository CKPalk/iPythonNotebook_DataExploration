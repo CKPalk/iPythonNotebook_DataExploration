{
 "cells": [
  {
   "cell_type": "markdown",
   "metadata": {},
   "source": [
    "# Beer Reviews Exploration\n",
    "\n",
    "Data is stored between two files:\n",
    " + Beeradvocate.txt\n",
    " + Ratebeer.txt\n"
   ]
  },
  {
   "cell_type": "code",
   "execution_count": 14,
   "metadata": {
    "collapsed": false
   },
   "outputs": [
    {
     "name": "stdout",
     "output_type": "stream",
     "text": [
      "Number of reviews: 4510779\n"
     ]
    }
   ],
   "source": [
    "DATA = open( 'Beeradvocate.txt', 'r', encoding='ISO-8859-1', errors='replace' ).read().split( '\\n\\n' ) \\\n",
    "     + open( 'Ratebeer.txt'    , 'r', encoding='ISO-8859-1', errors='replace' ).read().split( '\\n\\n' )\n",
    "\n",
    "print( \"Number of reviews:\", len( DATA ) )"
   ]
  },
  {
   "cell_type": "code",
   "execution_count": 15,
   "metadata": {
    "collapsed": false
   },
   "outputs": [
    {
     "name": "stdout",
     "output_type": "stream",
     "text": [
      " 0| beer/name: Sausa Weizen\n",
      " 1| beer/beerId: 47986\n",
      " 2| beer/brewerId: 10325\n",
      " 3| beer/ABV: 5.00\n",
      " 4| beer/style: Hefeweizen\n",
      " 5| review/appearance: 2.5\n",
      " 6| review/aroma: 2\n",
      " 7| review/palate: 1.5\n",
      " 8| review/taste: 1.5\n",
      " 9| review/overall: 1.5\n",
      "10| review/time: 1234817823\n",
      "11| review/profileName: stcules\n",
      "12| review/text: A lot of foam. But a lot.\tIn the smell some banana, and then lactic and tart. Not a good start.\tQuite dark orange in color, with a lively carbonation (now visible, under the foam).\tAgain tending to lactic sourness.\tSame for the taste. With some yeast and banana.\t\t\n"
     ]
    }
   ],
   "source": [
    "for line_num, line in enumerate( DATA[0].split('\\n') ):\n",
    "    print( \"{:2}| {}\".format( line_num, line ) )"
   ]
  },
  {
   "cell_type": "markdown",
   "metadata": {},
   "source": [
    "Each reviews consist of statistics of the beer as reported by the producer. As well as a customer review.\n",
    "\n",
    "    beer/\n",
    "        name     : The beers name\n",
    "        beerId   : Identifier for a specific beer\n",
    "        brewerId : Identifier for a specific producer\n",
    "        ABV      : Alcohol By Volume percentage\n",
    "        style    : Style of beer ( e.g. IPA, Hefeweizen, Pale Ale )\n",
    "        \n",
    "    review/\n",
    "        appearance  : Rating [0-5] stars\n",
    "        aroma       : Rating [0-5] stars\n",
    "        palate      : Rating [0-5] stars\n",
    "        taste       : Rating [0-5] stars\n",
    "        overall     : Rating [0-5] stars\n",
    "        time        : When the review was written\n",
    "        profileName : Who wrote the review\n",
    "        text        : A description of the beer and its drinking\n",
    "        \n",
    "Next I converted the reviews to a better data mining format, a **.csv**.\n",
    "\n",
    "\n",
    "\n",
    "For this I used the following parser code"
   ]
  },
  {
   "cell_type": "code",
   "execution_count": 30,
   "metadata": {
    "collapsed": false
   },
   "outputs": [
    {
     "ename": "AttributeError",
     "evalue": "'list' object has no attribute 'next'",
     "output_type": "error",
     "traceback": [
      "\u001b[0;31m---------------------------------------------------------------------------\u001b[0m",
      "\u001b[0;31mAttributeError\u001b[0m                            Traceback (most recent call last)",
      "\u001b[0;32m<ipython-input-30-f3393b9c41d2>\u001b[0m in \u001b[0;36m<module>\u001b[0;34m()\u001b[0m\n\u001b[1;32m     21\u001b[0m             \u001b[0;32mbreak\u001b[0m\u001b[0;34m\u001b[0m\u001b[0m\n\u001b[1;32m     22\u001b[0m \u001b[0;34m\u001b[0m\u001b[0m\n\u001b[0;32m---> 23\u001b[0;31m \u001b[0mparseReviews\u001b[0m\u001b[0;34m(\u001b[0m \u001b[0;34m'Beeradvocate.txt'\u001b[0m\u001b[0;34m,\u001b[0m \u001b[0;34m'output.csv'\u001b[0m \u001b[0;34m)\u001b[0m\u001b[0;34m\u001b[0m\u001b[0m\n\u001b[0m\u001b[1;32m     24\u001b[0m \u001b[0;34m\u001b[0m\u001b[0m\n\u001b[1;32m     25\u001b[0m \u001b[0;34m\u001b[0m\u001b[0m\n",
      "\u001b[0;32m<ipython-input-30-f3393b9c41d2>\u001b[0m in \u001b[0;36mparseReviews\u001b[0;34m(txt_filename, csv_filename)\u001b[0m\n\u001b[1;32m     15\u001b[0m     \u001b[0;32mwhile\u001b[0m \u001b[0;32mTrue\u001b[0m\u001b[0;34m:\u001b[0m\u001b[0;34m\u001b[0m\u001b[0m\n\u001b[1;32m     16\u001b[0m         \u001b[0;32mtry\u001b[0m\u001b[0;34m:\u001b[0m\u001b[0;34m\u001b[0m\u001b[0m\n\u001b[0;32m---> 17\u001b[0;31m             \u001b[0mwriter\u001b[0m\u001b[0;34m.\u001b[0m\u001b[0mwriterow\u001b[0m\u001b[0;34m(\u001b[0m \u001b[0;34m[\u001b[0m \u001b[0mlines\u001b[0m\u001b[0;34m.\u001b[0m\u001b[0mnext\u001b[0m\u001b[0;34m(\u001b[0m\u001b[0;34m)\u001b[0m \u001b[0;32mfor\u001b[0m \u001b[0mcat\u001b[0m \u001b[0;32min\u001b[0m \u001b[0mcategories\u001b[0m \u001b[0;34m]\u001b[0m \u001b[0;34m)\u001b[0m\u001b[0;34m\u001b[0m\u001b[0m\n\u001b[0m\u001b[1;32m     18\u001b[0m             \u001b[0mlines\u001b[0m\u001b[0;34m.\u001b[0m\u001b[0mnext\u001b[0m\u001b[0;34m(\u001b[0m\u001b[0;34m)\u001b[0m\u001b[0;34m\u001b[0m\u001b[0m\n\u001b[1;32m     19\u001b[0m             \u001b[0mlines\u001b[0m\u001b[0;34m.\u001b[0m\u001b[0mnext\u001b[0m\u001b[0;34m(\u001b[0m\u001b[0;34m)\u001b[0m\u001b[0;34m\u001b[0m\u001b[0m\n",
      "\u001b[0;32m<ipython-input-30-f3393b9c41d2>\u001b[0m in \u001b[0;36m<listcomp>\u001b[0;34m(.0)\u001b[0m\n\u001b[1;32m     15\u001b[0m     \u001b[0;32mwhile\u001b[0m \u001b[0;32mTrue\u001b[0m\u001b[0;34m:\u001b[0m\u001b[0;34m\u001b[0m\u001b[0m\n\u001b[1;32m     16\u001b[0m         \u001b[0;32mtry\u001b[0m\u001b[0;34m:\u001b[0m\u001b[0;34m\u001b[0m\u001b[0m\n\u001b[0;32m---> 17\u001b[0;31m             \u001b[0mwriter\u001b[0m\u001b[0;34m.\u001b[0m\u001b[0mwriterow\u001b[0m\u001b[0;34m(\u001b[0m \u001b[0;34m[\u001b[0m \u001b[0mlines\u001b[0m\u001b[0;34m.\u001b[0m\u001b[0mnext\u001b[0m\u001b[0;34m(\u001b[0m\u001b[0;34m)\u001b[0m \u001b[0;32mfor\u001b[0m \u001b[0mcat\u001b[0m \u001b[0;32min\u001b[0m \u001b[0mcategories\u001b[0m \u001b[0;34m]\u001b[0m \u001b[0;34m)\u001b[0m\u001b[0;34m\u001b[0m\u001b[0m\n\u001b[0m\u001b[1;32m     18\u001b[0m             \u001b[0mlines\u001b[0m\u001b[0;34m.\u001b[0m\u001b[0mnext\u001b[0m\u001b[0;34m(\u001b[0m\u001b[0;34m)\u001b[0m\u001b[0;34m\u001b[0m\u001b[0m\n\u001b[1;32m     19\u001b[0m             \u001b[0mlines\u001b[0m\u001b[0;34m.\u001b[0m\u001b[0mnext\u001b[0m\u001b[0;34m(\u001b[0m\u001b[0;34m)\u001b[0m\u001b[0;34m\u001b[0m\u001b[0m\n",
      "\u001b[0;31mAttributeError\u001b[0m: 'list' object has no attribute 'next'"
     ]
    }
   ],
   "source": [
    "import csv\n",
    "\n",
    "def parseReviews( txt_filename, csv_filename ):\n",
    "    txt_f = open( txt_filename, 'r', encoding='ISO-8859-1', errors='replace' )\n",
    "    csv_f = open( csv_filename, 'w+' )\n",
    "            \n",
    "    lines  = txt_f.readlines()\n",
    "    writer = csv.writer( csv_f )\n",
    "    \n",
    "    categories = [ \"name\",  \"bearId\",     \"brewerId\", \"ABV\", \n",
    "                   \"style\", \"appearance\", \"aroma\",    \"palate\", \n",
    "                   \"taste\", \"overall\",    \"time\",    \"profileName\", \n",
    "                   \"text\" ]\n",
    "    \n",
    "    while True:\n",
    "        try:\n",
    "            writer.writerow( [ lines.next() for cat in categories ] )\n",
    "            lines.next()\n",
    "            lines.next()\n",
    "        except StopIteration:\n",
    "            break\n",
    "    \n",
    "parseReviews( 'Beeradvocate.txt', 'output.csv' )    \n",
    "\n",
    "        \n",
    "        \n",
    "        "
   ]
  },
  {
   "cell_type": "markdown",
   "metadata": {},
   "source": [
    "For this we will be using **PANDAS**, specifically for the power and functionality of their DataFrame objects to store and manipulate our data."
   ]
  },
  {
   "cell_type": "code",
   "execution_count": 16,
   "metadata": {
    "collapsed": true
   },
   "outputs": [],
   "source": [
    "import pandas"
   ]
  },
  {
   "cell_type": "markdown",
   "metadata": {},
   "source": [
    "Our dataframe will be a 2-Dimensional array holding rows of reviews, with each column representing a review section listed above."
   ]
  },
  {
   "cell_type": "code",
   "execution_count": 28,
   "metadata": {
    "collapsed": false
   },
   "outputs": [
    {
     "data": {
      "text/html": [
       "<div>\n",
       "<table border=\"1\" class=\"dataframe\">\n",
       "  <thead>\n",
       "    <tr style=\"text-align: right;\">\n",
       "      <th></th>\n",
       "      <th>0</th>\n",
       "      <th>1</th>\n",
       "      <th>2</th>\n",
       "    </tr>\n",
       "  </thead>\n",
       "  <tbody>\n",
       "    <tr>\n",
       "      <th>0</th>\n",
       "      <td>1</td>\n",
       "      <td>2</td>\n",
       "      <td>3</td>\n",
       "    </tr>\n",
       "    <tr>\n",
       "      <th>1</th>\n",
       "      <td>4</td>\n",
       "      <td>5</td>\n",
       "      <td>6</td>\n",
       "    </tr>\n",
       "    <tr>\n",
       "      <th>2</th>\n",
       "      <td>7</td>\n",
       "      <td>8</td>\n",
       "      <td>9</td>\n",
       "    </tr>\n",
       "  </tbody>\n",
       "</table>\n",
       "</div>"
      ],
      "text/plain": [
       "   0  1  2\n",
       "0  1  2  3\n",
       "1  4  5  6\n",
       "2  7  8  9"
      ]
     },
     "execution_count": 28,
     "metadata": {},
     "output_type": "execute_result"
    }
   ],
   "source": []
  },
  {
   "cell_type": "code",
   "execution_count": null,
   "metadata": {
    "collapsed": true
   },
   "outputs": [],
   "source": []
  }
 ],
 "metadata": {
  "kernelspec": {
   "display_name": "Python 3",
   "language": "python",
   "name": "python3"
  },
  "language_info": {
   "codemirror_mode": {
    "name": "ipython",
    "version": 3
   },
   "file_extension": ".py",
   "mimetype": "text/x-python",
   "name": "python",
   "nbconvert_exporter": "python",
   "pygments_lexer": "ipython3",
   "version": "3.5.1"
  }
 },
 "nbformat": 4,
 "nbformat_minor": 0
}
